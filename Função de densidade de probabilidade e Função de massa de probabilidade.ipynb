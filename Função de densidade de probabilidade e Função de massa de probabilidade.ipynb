{
 "cells": [
  {
   "cell_type": "markdown",
   "id": "c9dd4bf8",
   "metadata": {},
   "source": [
    "## Função de densidade de probabilidade e Função de massa de probabilidade"
   ]
  },
  {
   "cell_type": "markdown",
   "id": "4e21d701",
   "metadata": {},
   "source": [
    "### Variável Aleatória: Uma variável que representa o resultado de um ensaio/experiência ou um evento. Pense nisso como uma função que mapeia os resultados de um processo aleatório para um conjunto de números reais. Normalmente representado por: X\n",
    "<img  width=\"30%\" src=\"https://pbs.twimg.com/media/FuUZHFPagAAi8Ph?format=png&name=small\">"
   ]
  },
  {
   "cell_type": "markdown",
   "id": "c8083509",
   "metadata": {},
   "source": [
    "### Variáveis aleatórias discretas e contínuas: Uma variável aleatória discreta assume um número finito ou contável de valores distintos. Uma variável aleatória contínua assume um número infinito de valores dentro de uma faixa ou intervalo especificado.\n",
    "<img  width=\"40%\" src=\"https://pbs.twimg.com/media/FuUZHgEacAEUwnT?format=jpg&name=small\">"
   ]
  },
  {
   "cell_type": "markdown",
   "id": "aa8be2a2",
   "metadata": {},
   "source": [
    "### Função de massa de probabilidade (PMF) é uma função que dá a probabilidade de cada resultado possível de uma variável aleatória discreta. Exemplo: Lançamento de uma moeda honesta O PMF para esta moeda seria: - P(X = H) = 0,5 - P(X = T) = 0,5 "
   ]
  },
  {
   "cell_type": "markdown",
   "id": "561c1b20",
   "metadata": {},
   "source": [
    "### Diga-me, qual a probabilidade de uma pessoa ter exatamente 167,2387 cm de altura? Dado que existem cerca de 8 bilhões de pessoas no mundo. Seria ZERO. <br>\n",
    "### Visto que estamos falando de uma única pessoa e o tamanho da amostra é muito grande (1/∞ → 0) <br>\n",
    "### Mas algumas alturas em torno de 170 cm são mais prováveis de ocorrer do que 130 cm. \n",
    "### A Função de densidade de probabilidade (PDF) abaixo não dá a probabilidade de um valor específico de uma variável aleatória contínua. Em vez disso, representa a densidade de probabilidade naquele valor. <br>\n",
    "<img  width=\"40%\" src=\"https://pbs.twimg.com/media/FuUZISAaIAAEWCq?format=jpg&name=small\">\n"
   ]
  },
  {
   "cell_type": "code",
   "execution_count": null,
   "id": "6699bd65",
   "metadata": {},
   "outputs": [],
   "source": [
    "import numpy as np  \n",
    "import scipy.stats as stats \n",
    "import matplotlib.pyplot as plt \n",
    "\n",
    "# Set the mean (mu) and std dev (sigma) for the normal distribution\n",
    "mu, sigma = 170, 10  \n",
    "x = np.linspace(140, 200, 100) \n",
    "\n",
    "# Calculate the (PDF) for the normal distribution\n",
    "pdf = stats.norm.pdf(x, mu, sigma)  \n",
    "\n",
    "plt.figure(figsize=(5, 4))  \n",
    "plt.plot(x, pdf, color='r')  \n",
    "plt.xlabel('Height (cm)')  \n",
    "plt.ylabel('Density')  \n",
    "plt.show() "
   ]
  },
  {
   "cell_type": "markdown",
   "id": "b0719637",
   "metadata": {},
   "source": [
    "### Querendo saber como essa representação é útil? Digamos que você queira encontrar a probabilidade de a altura de uma pessoa estar entre 160 cm e 180 cm.\n",
    "<img  width=\"40%\" src=\"https://pbs.twimg.com/media/FuUZIxEaAAAr8Cm?format=jpg&name=small\">"
   ]
  },
  {
   "cell_type": "code",
   "execution_count": null,
   "id": "0e06fa1a",
   "metadata": {},
   "outputs": [],
   "source": [
    "import numpy as np\n",
    "import scipy.stats as stats\n",
    "\n",
    "mu, sigma = 170, 10\n",
    "\n",
    "# Calculate the CDF values for the range limits\n",
    "cdf_lower = stats.norm.cdf(160, mu, sigma)\n",
    "cdf_upper = stats.norm.cdf(180, mu, sigma)\n",
    "\n",
    "# Subtract the CDF values to find the probability within the range\n",
    "probability = cdf_upper - cdf_lower\n",
    "\n",
    "print(f\"P(160 <= Height <= 180) = {probability:.4f}\")"
   ]
  }
 ],
 "metadata": {
  "kernelspec": {
   "display_name": "Python 3 (ipykernel)",
   "language": "python",
   "name": "python3"
  },
  "language_info": {
   "codemirror_mode": {
    "name": "ipython",
    "version": 3
   },
   "file_extension": ".py",
   "mimetype": "text/x-python",
   "name": "python",
   "nbconvert_exporter": "python",
   "pygments_lexer": "ipython3",
   "version": "3.9.12"
  }
 },
 "nbformat": 4,
 "nbformat_minor": 5
}
