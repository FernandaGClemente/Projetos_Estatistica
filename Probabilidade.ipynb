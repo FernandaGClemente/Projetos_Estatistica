{
 "cells": [
  {
   "cell_type": "markdown",
   "id": "f6429090",
   "metadata": {},
   "source": [
    "<center><img width=\"25%\" src=\"https://www.camaramirimdoce.sc.gov.br/media/noticia/resumo-da-sessao-10-06-2019-111.png?w=848&h=450&t=P&c=f0f0f0&q=80&v=2\"></center>\n",
    "\n",
    "---\n",
    "\n",
    "<br>\n",
    "\n",
    "# Probabilidade\n",
    "\n",
    "<br>"
   ]
  },
  {
   "cell_type": "markdown",
   "id": "b4436ccc",
   "metadata": {},
   "source": [
    "# **<u>Sumário:</u>**\n",
    "1. [Determinístico x Probabilístico](#Determinístico-x-Probabilístico)\n",
    "2. [Experimentos Aleatórios](#Experimentos-Aleatórios)\n",
    "    * Espaço ou pontos amostrais (S OU Ω) \n",
    "    * Evento Aleatório (E)\n",
    "    * Espaço Equiprováveis\n",
    "    * Espaço Não Equiprováveis\n",
    "3. [Definição de probabilidade](#Definição-de-probabilidade)\n",
    "4. [Diagrama de Venn](#Diagrama-de-Venn)\n",
    "5. [Teorema da soma](#Teorema-da-soma)\n",
    "6. [Eventos mutuamente excludentes](#Eventos-mutuamente-excludentes)\n",
    "7. [Teorema da soma com 3 eventos](#Teorema-da-soma-com-3-eventos)\n",
    "8. [Teorema do evento complementar](#Teorema-do-evento-complementar)\n",
    "9. [Análise combinatória](#Análise-combinatória)\n",
    "    * Princípio fundamental da contagem (PFC) \n",
    "    * Fatorial\n",
    "        * Número Binomial \n",
    "        * Triângulo de Pascal\n",
    "    * Permutação \n",
    "    * Arranjo simples\n",
    "    * Arranjo com repetição\n",
    "    * Combinação simples\n",
    "    * Combinação com repetição\n",
    "10. [Probabilidade condicional](#Probabilidade-condicional)\n",
    "11. [Teorema do produto (eventos dependentes)](#Teorema-do-produto-(eventos-dependentes))\n",
    "12. [Eventos independentes](#Eventos-independentes)\n",
    "13. [Teoria de grafos](#Teoria-de-grafos)\n",
    "14. [Diagrama de árvore](#Diagrama-de-árvore)\n",
    "15. [Teorema da probabilidade total](#Teorema-da-probabilidade-total)\n",
    "16. [Teorema de Bayes](#Teorema-de-Bayes)\n",
    "17. [Variáveis aleatórias (V.A)](#Variáveis-aleatórias-(V.A))\n",
    "18. [Função de probabilidade](#Função-de-probabilidade)\n",
    "19. [Esperança (valor esperado)](#Esperança-(valor-esperado))\n",
    "20. [Variância](#Variância)\n",
    "21. [Desvio padrão](#Desvio-padrão)\n",
    "22. [Distribuição de probabilidade](#Distribuição-de-probabilidade)\n",
    "    * Distribuição uniforme\n",
    "    * Distribuição de Bernoulli\n",
    "    * Distribuição Binominal\n",
    "        * Distribuição binominal acumulada\n",
    "        * Distribuição binominal negativa (geométrica)\n",
    "        * Parâmetros da distribuição binominal\n",
    "    * Número de Euler (Constante de Euler)\n",
    "    * Distribuição de Poisson\n",
    "    * Variável Aleatória Contínua\n",
    "        * Distribuição uniforme contínua\n",
    "        * Distribuição normal \n",
    "            * Curva normal (Gaussiana) \n",
    "            * Simetria da curva normal\n",
    "            * Distribuição normal inversa\n",
    "23. [Propriedade das operações entre eventos](#Propriedade-das-operações-entre-eventos)\n",
    "    * Idempotentes\n",
    "    * Comutativas\n",
    "    * Associativas\n",
    "    * Distributiva\n",
    "    * Absorções\n",
    "    * Identidade\n",
    "    * Complementares\n",
    "    * Lei das dualidades ou Lei de Morgan\n",
    "24. [Passeio aleatório](#Passeio-aleatório)\n",
    "    * Passeio aleatório em malha\n",
    "    * Passeio aleatório Gaussiano"
   ]
  },
  {
   "cell_type": "markdown",
   "id": "cd0b82d0",
   "metadata": {},
   "source": [
    "# Determinístico x Probabilístico\n",
    "[&#x1F53C;](#Sumário:) Clique para voltar para o sumário"
   ]
  },
  {
   "cell_type": "markdown",
   "id": "6eeead02",
   "metadata": {},
   "source": [
    "* Fenômenos determinísticos são aqueles em que os resultados são sempre os mesmos, qualquer que seja o número de ocorrência dos mesmos. Ex.: Se eu soltar um dado numa mesa, podemos determinar que o dado SEMPRE quicará na mesa. \n",
    "\n",
    "<br>\n",
    "\n",
    "* Fenômenos aleatórios: os resultados não serão previsíveis, mesmo que haja um grande número de repetições do mesmo fenômeno. São fenômenos produzidos pelo homem. Ex.: Se eu soltar um dado numa mesa, não saberemos qual é o resultado do dado, podendo o resultado ser 1 a 6. (A cada experimento aleatório está associado ao resultado obtido, que não é previsível, chamado evento aleatório)"
   ]
  },
  {
   "cell_type": "markdown",
   "id": "2374a01b",
   "metadata": {},
   "source": [
    "# Experimentos Aleatórios\n",
    "[&#x1F53C;](#Sumário:) Clique para voltar para o sumário"
   ]
  },
  {
   "cell_type": "markdown",
   "id": "1fcacf8d",
   "metadata": {},
   "source": [
    "### 1 - Espaço ou pontos amostrais (S OU Ω) \n",
    "É o conjunto formado por todos os resultados possíveis desse experimento aleatório. Exemplos: \n",
    "* Moeda: S = 2 (Cara ou coroa) \n",
    "* Dado: S = 6 pontos\n",
    "* Baralho: S = 32 cartas\n",
    "* Lâmpada: S = 2 (Acende ou não acende)\n",
    "* Bingo: S = 50 bolinhas\n",
    "\n",
    "<br>\n",
    "\n",
    "### 2 - Evento Aleatório (E) \n",
    "É um subconjunto do Espaço Amostral (S). Pode ser constituído por um ou mais resultados. Exemplo:\n",
    "* Experimento aleatório: Lançamento de um dado\n",
    "* Espaço Amostral: S = {1,2,3,4,5,6}\n",
    "* Evento Aleatório: Resultado ser PAR → E = {2,4,6}\n",
    "\n",
    "<br>\n",
    "\n",
    "### 3 - Espaço Equiprováveis \n",
    "Em um espaço equiprovável temos que todos os elementos amostrais dentro dele tem a mesma chance de ocorrer. \n",
    "\n",
    "<br>\n",
    "\n",
    "### 4 - Espaço Não Equiprováveis \n",
    "Exemplos: \n",
    "Um dado foi viciado, de forma que as probabilidades de cada face são as seguintes:\n",
    "<img width=\"25%\" src=\"_imagens/Probabilidade - Espaço não equiprovaveis - 1.png\">\n",
    "Calcule a probabilidade de sair um resultado maior que 3 no lançamento desse dado. <br>\n",
    "P (4 ∪5 ∪6) = P (4) + P (5) + P (6) = 0,15 + 0,15 + 0,3 = 0,60 = 60%\n",
    "<img width=\"25%\" src=\"_imagens/Probabilidade - Espaço não equiprovaveis - 2.png\">\n",
    "<img width=\"25%\" src=\"_imagens/Probabilidade - Espaço não equiprovaveis - 3.png\">\n",
    "Usando a análise combinatória para calcular a quantidade de combinações de sair 3 coroas em 4 lançamentos. C 4,3 = 4 <br>\n",
    "Com isso, a probabilidade de sair 3 coras em 4 lançamentos foi de 0,4 x 0,4 x 0,4 x 0,6 x 4 = 0,1536\n",
    "<img width=\"25%\" src=\"_imagens/Probabilidade - Espaço não equiprovaveis - 4.png\">"
   ]
  },
  {
   "cell_type": "markdown",
   "id": "910eca2f",
   "metadata": {},
   "source": [
    "# Definição de probabilidade\n",
    "[&#x1F53C;](#Sumário:) Clique para voltar para o sumário"
   ]
  },
  {
   "cell_type": "markdown",
   "id": "146992b1",
   "metadata": {},
   "source": [
    "A probabilidade de um evento aleatório E, denotada por P(E), é um número de 0 a 1 que indica a chance de ocorrência do evento E, num espaço equiprovável.\n",
    "* Fórmula: P(E) = (n(E))/(n(S))\n",
    "\t* P(E) = Probabilidade da ocorrência do evento E\n",
    "\t* n(E) = Número de casos que nos interessam (Evento E) ou Número de resultados favoráveis a um evento\n",
    "\t* n(S) = Número total de casos possíveis no Espaço Amostral (S) ou Número de resultados possíveis \n",
    "\t* 0 ≤ P(E) ≤ 1,    \n",
    "* Sendo P (∅) = 0 → Ex.: Qual é a probabilidade de NÃO cair um número de 1 a 6 ao jogar um dado = 0;\n",
    "* Sendo P (S) = 1 → Ex.: Qual é a probabilidade de cair um número de 1 a 6 ao jogar um dado = 100%, ou seja, 1;\n",
    "\n",
    "<img width=\"25%\" src=\"_imagens/Probabilidade - Definição.png\">"
   ]
  },
  {
   "cell_type": "markdown",
   "id": "75037472",
   "metadata": {},
   "source": [
    "# Diagrama de Venn \n",
    "[&#x1F53C;](#Sumário:) Clique para voltar para o sumário"
   ]
  },
  {
   "cell_type": "markdown",
   "id": "1205f398",
   "metadata": {},
   "source": [
    "É a representar graficamente conjuntos colocando-se nos seus interiores seus respectivos elementos. Com essa representação gráfica, o entendimento sobre as operações com conjuntos, como interseção e união, torna-se muito intuitivo. \n",
    "\n",
    "<img width=\"25%\" src=\"_imagens/Probabilidade - Diagrama de Venn.png\">"
   ]
  },
  {
   "cell_type": "markdown",
   "id": "13b55a6e",
   "metadata": {},
   "source": [
    "# Teorema da soma\n",
    "[&#x1F53C;](#Sumário:) Clique para voltar para o sumário"
   ]
  },
  {
   "cell_type": "markdown",
   "id": "f127ee5a",
   "metadata": {},
   "source": [
    "Em um experimento aleatório de espaço amostral S, dados dois eventos aleatórios A e B contido em S, temos que: \n",
    "* Fórmula: União (OR) = Quando ocorrer o evento A ou evento B ou ambos = P (A ∪ B) = P (A) + P (B) – P (A ∩ B) \n",
    "<img width=\"25%\" src=\"_imagens/Probabilidade - Teorema da Soma - União.png\">\n",
    "* Fórmula: Interseção (AND) = Quando ocorrer o evento A e o evento B = P (A ∩ B) = P (A) + P (B) – P (A ∪ B)\n",
    "<img width=\"25%\" src=\"_imagens/Probabilidade - Teorema da Soma - Interseção.png\">\n",
    "\n",
    "<br>\n",
    "\n",
    "Exemplo: Lançamento de dados, onde S = {1,2,3,4,5,6}. <br>\n",
    "A = resultado maior que 2 <br>\n",
    "B = resultado par <br>\n",
    "* A = {3,4,5,6} → P(A) = 4/6 \n",
    "* B = {2,4,6} → P(B) = 3/6 \n",
    "* A ∪ B = {2,3,4,5,6} → P (A ∪ B) = 5/6 \n",
    "* A ∩ B = {4,6} → P (A ∩ B) = 2/6 \n",
    "    * P (A ∪ B) = P(A) + P(B) – P (A ∩ B) \n",
    "    * P (A ∪ B) = 4/6 + 3/6 – 2/6 = 5/6 \n",
    "\n",
    "<br>\n",
    "\n",
    "OBS: No teorema da união é fundamental tirar a interseção, pois estaríamos considerando o A duas vezes. Já que a interseção está contida em A e também está contida em B."
   ]
  },
  {
   "cell_type": "markdown",
   "id": "da8b3c95",
   "metadata": {},
   "source": [
    "# Eventos mutuamente excludentes\n",
    "[&#x1F53C;](#Sumário:) Clique para voltar para o sumário"
   ]
  },
  {
   "cell_type": "markdown",
   "id": "35ce3ab9",
   "metadata": {},
   "source": [
    "Dois eventos são mutuamente excludentes/exclusivos quando não podem ocorrer ao mesmo tempo. Isto é, se a intersecção for vazia (A ∩ B = ∅). Quando acontecer o evento A, não acontecerá o evento B. Não há possibilidade de ocorrer simultaneamente.\n",
    "* Fórmula: P (A ∪ B) = P (A) + P (B)\n",
    "<img width=\"25%\" src=\"_imagens/Probabilidade - Eventos mutuamente excludentes.png\">\n",
    "\n",
    "<br>\n",
    "\n",
    "Exemplo: Lançamento de dado, onde S = {1,2,3,4,5,6} <br>\n",
    "A = resultado menor ou igual a 3 <br>\n",
    "B = resultado maior que 4 <br>\n",
    "* A = {1,2,3} → P(A) = 3/6\n",
    "* B = {5,6} → P(B) = 2/6\n",
    "* A ∪ B = {1,2,3,5,6}\n",
    "    * P (A ∪ B) = P(A) + P(B) = 3/6 + 2/6 = 5/6"
   ]
  },
  {
   "cell_type": "markdown",
   "id": "0ab175b6",
   "metadata": {},
   "source": [
    "# Teorema da soma com 3 eventos\n",
    "[&#x1F53C;](#Sumário:) Clique para voltar para o sumário"
   ]
  },
  {
   "cell_type": "markdown",
   "id": "2f37c346",
   "metadata": {},
   "source": [
    "* Fórmula: P (A ∪ B ∪ C) = P (A) + P (B) + P(C) – P (A ∩ B) - P (A ∩ C) - P (B ∩ C) + P (A ∩ B ∩ C)"
   ]
  },
  {
   "cell_type": "markdown",
   "id": "b8d13a2d",
   "metadata": {},
   "source": [
    "# Teorema do evento complementar\n",
    "[&#x1F53C;](#Sumário:) Clique para voltar para o sumário"
   ]
  },
  {
   "cell_type": "markdown",
   "id": "a582efa6",
   "metadata": {},
   "source": [
    "Em um experimento aleatório de espaço amostral S, dado um evento aleatório A contido em S, temos que: \n",
    "* Fórmula: P (A^C) = 1 – P(A) \n",
    "* A^C = S – A → Resultados que não pertence ao evento considerado. Quando não acontece o evento considerado\n",
    "<img width=\"25%\" src=\"_imagens/Probabilidade - Teorema do evento complementar.png\">"
   ]
  },
  {
   "cell_type": "markdown",
   "id": "cfe6be7a",
   "metadata": {},
   "source": [
    "# Análise Combinatória\n",
    "[&#x1F53C;](#Sumário:) Clique para voltar para o sumário"
   ]
  },
  {
   "attachments": {},
   "cell_type": "markdown",
   "id": "d9762ad1",
   "metadata": {},
   "source": [
    "É a parte da matemática que estuda métodos e técnicas que permitem resolver problemas relacionados com contagem. Muito utilizada nos estudos sobre probabilidade, ela faz análise das possibilidades e das combinações possíveis entre um conjunto de elementos. \n",
    "\n",
    "<br>\n",
    "\n",
    "Exemplo: Carina quer escolher um look para sair. Se ela tem 2 calcas e 4 blusas, quantas possibilidades de looks ela pode escolher? <br>\n",
    "Podemos utilizar a árvore de soluções (possibilidade) ou utilizar o princípio fundamental da contagem\n",
    "<img width=\"50%\" src=\"_imagens/Probabilidade - Analise combinatoria.png\">\n",
    "OBS: A quantidade de elementos (n) será igual e maior que a quantidade de opções/possibilidades (p) = n ≥ p. Ou seja, em uma análise onde não está definido de forma direta quem é quem, será levado em conta a quantidade.\n",
    "\n",
    "<br>\n",
    "\n",
    "#### 1 - Princípio fundamental da contagem (PFC):\n",
    "Também chamado de princípio multiplicativo é utilizado para encontrar o número de possibilidades para um evento constituído de k etapas. Para isso, as etapas devem ser sucessivas e independentes. \n",
    "* Etapas: A1, A2, ..., Ak\n",
    "* Escolhas: N1, N2, ..., Nk\n",
    "\n",
    "###### Exemplo: Quantos números naturais com 3 algarismos podemos formar utilizando os dígitos 2,3,4 e 5? R = 4 x 4 x 4 = 64 opções\n",
    "* 1° algarismo tem 4 opções \n",
    "* 2° algarismo tem 4 opções\n",
    "* 3° algarismo tem 4 opções\n",
    "\n",
    "###### Exemplo: Quantos números naturais com 3 algarismos podemos formar? R = 9 x 10 x 10 = 900 possibilidades\n",
    "* Tem restrição = 1° algarismo tem 9 opções, pois não podemos começar com o número 0 (zero) \n",
    "* Sem restrição = 2° algarismo tem 10 opções (0,1,2,3,4,5,6,7,8,9)\n",
    "* Sem restrição = 3° algarismo tem 10 opções (0,1,2,3,4,5,6,7,8,9)\n",
    "\n",
    "###### Exemplo: Quantos números naturais pares com 3 algarismos podemos formar? R = 9 x 10 x 5 = 450 opções\n",
    "* Tem restrição = 1° algarismo tem 9 opções, pois não podemos começar com o número 0 (zero) \n",
    "* Sem restrição = 2° algarismo tem 10 opções (0,1,2,3,4,5,6,7,8,9)\n",
    "* Tem restrição = 3° algarismo tem 5 opções (0,2,4,6,8), pois o último número precisa ser par\n",
    "\n",
    "<br>\n",
    "\n",
    "#### 2 - Fatorial\n",
    "O fatorial de um número inteiro positivo, representado por n!, é calculado pela multiplicação desse número por todos os seus antecessores até chegar ao número 1. Define 0! = 1 e 1! = 1\n",
    "<img width=\"50%\" src=\"_imagens/Probabilidade - Fatorial.png\">\n",
    "\n",
    "###### Exemplos: \n",
    "* 5! = 5 x 4 x 3 x 2 x 1 = 120\n",
    "* 7!/4! = (7 x 6 x 5 x 4!)/4! = 7 x 6 x 5 = 210\n",
    "* 2 x 5! = 2 x (5 x 4 x 3 x 2 x 1) = 2 x 120 = 240\n",
    "* 2! x 5! = (2 x 1) x (5 x 4 x 3 x 2 x 1) = 2 x 120 = 240\n",
    "\n",
    "###### 2.1 - Número binomial \n",
    "* Fórmula: \n",
    "<img width=\"25%\" src=\"_imagens/Probabilidade - Fatorial - Numero Binominal.png\">\n",
    "\n",
    "###### Exemplo:\n",
    "<img width=\"35%\" src=\"_imagens/Probabilidade - Fatorial - Numero Binominal - Exemplo 1.png\">\n",
    "<img width=\"35%\" src=\"_imagens/Probabilidade - Fatorial - Numero Binominal - Exemplo 2.png\">\n",
    "\n",
    "###### 2.2 - Triângulo de pascal\n",
    "<img width=\"50%\" src=\"_imagens/Probabilidade - Fatorial - Triangulo de pascal.png\">\n",
    "\n",
    "<br>\n",
    "\n",
    "#### 3 - Permutação\n",
    "É uma técnica de contagem utilizada para determinar quantas maneiras existem para ordenar (ordem importa) os elementos de um conjunto finito. Sendo n = p. \n",
    "Na permutação simples não há elementos repetidos. Usada em caso, quando os elementos apenas serão embaralhados e anagramas. \n",
    "* Fórmula: Pn = n!\n",
    "Podemos enxergar a permutação simples como um caso particular do arranjo simples, quando não usa todos os elementos. \n",
    "\n",
    "###### Exemplo:\n",
    "<img width=\"40%\" src=\"_imagens/Probabilidade - Permutação simples.png\">\n",
    "\n",
    "###### Exemplo: Temos 5 pessoas e 5 cadeiras, de quantas formas diferentes podemos acomodar estas pessoas nestas cadeiras? R = 5 x 4 x 3 x 2 x 1 ou 5!\n",
    "* Sem restrição = 1° algarismo tem 5 opções \n",
    "* Com restrição = 2° algarismo tem 4 opções, pois uma pessoa já sentou em uma cadeira\n",
    "* Com restrição = 3° algarismo tem 3 opções, pois duas pessoas já sentaram em duas cadeiras\n",
    "* Com restrição = 4° algarismo tem 2 opções, pois três pessoas já sentaram em três cadeiras\n",
    "* Com restrição = 5° algarismo tem 1 opções, pois quatro pessoas já sentaram em quatro cadeiras\n",
    "\n",
    "###### Exemplos: \n",
    "* Quantos anagramas tem a palavra MEL? Conjunto = {M, E, L} sendo n = 3 e p = 3, por tanto, P3 = 3! = 3 x 2 x 1 = 6\n",
    "* Quantas permutações (embaralhar) podemos fazer com as 52 cartas do baralho? P52 = 52! = 8 x 10^67\n",
    "* Em relação as posições finais dos 20 times do Campeonato Brasileiro série A, de quantas formas diferentes pode terminar o campeonato levando em conta apenas as posições? P20 = 20! = 2,4 x 10^18\n",
    "* Quantos anagramas tem a palavra REVISTA, considerando que devemos mantes as letras EVI juntas e nesta ordem? \n",
    "    * Conjunto = {R, EVI, S, T, A} com apenas 5 algarismo, por tanto, P5 = 5! = 120\n",
    "        * Sem restrição = 1° algarismo R tem 5 opções \n",
    "        * Com restrição = 2° algarismo EVI tem 4 opções, pois uma opção já foi utilizada.\n",
    "        * Com restrição = 3° algarismo S tem 3 opções, pois duas opções já foram utilizadas.\n",
    "        * Com restrição = 4° algarismo T tem 2 opções, pois três opções já foram utilizadas.\n",
    "        * Com restrição = 5° algarismo A tem 1 opções, pois quatro opções já foram utilizadas.\n",
    "        * Quantos anagramas tem a palavra REVISTA, considerando que devemos iniciar com a letra T? \n",
    "    * Conjunto = {R, E, V, I, S, T, A} com apenas 7 algarismo. R = 1 x 6! = P6 = 6! = 6 x 5 x 4 x 3 x 2 x 1 = 720\n",
    "        * Com restrição = 1° algarismo T tem 1 opção, pois tem que iniciar com a letra T \n",
    "        * Com restrição = 2° algarismo tem 6 opções, pois a letra T já foi utilizada.\n",
    "        * Com restrição = 3° algarismo tem 5 opções, pois a letra T e mais duas opções já foram utilizadas.\n",
    "        * Com restrição = 4° algarismo tem 4 opções, pois a letra T e mais três opções já foram utilizadas.\n",
    "        * Com restrição = 5° algarismo tem 3 opções, pois a letra T e mais quatro opções já foram utilizadas.\n",
    "        * Com restrição = 6° algarismo tem 2 opções, pois a letra T e mais cinco opções já foram utilizadas.\n",
    "        * Com restrição = 7° algarismo tem 1 opções, pois a letra T e mais seis opções já foram utilizadas.\n",
    "\n",
    "<br>\n",
    "\n",
    "Na permutação com repetição, supomos que queremos permutar n elementos. Temos que k se repetem, respectivamente, n1, n2, ..., nk vezes. Então, a quantidade de permutações possíveis será: \n",
    "* Fórmula:\n",
    "<img width=\"25%\" src=\"_imagens/Probabilidade - Permutação com repetição.png\">\n",
    "###### Exemplos:\n",
    "<img width=\"50%\" src=\"_imagens/Probabilidade - Permutação com repetição - Exemplo 1.png\">\n",
    "<img width=\"50%\" src=\"_imagens/Probabilidade - Permutação com repetição - Exemplo 2.png\">\n",
    "<img width=\"50%\" src=\"_imagens/Probabilidade - Permutação com repetição - Exemplo 3.png\">\n",
    "\n",
    "<br>\n",
    "\n",
    "Permutação circular é um tipo de permutação composta por n elementos em ordem cíclica.\n",
    "* Fórmula:\n",
    "<img width=\"25%\" src=\"_imagens/Probabilidade - Permutação circular.png\">\n",
    "###### Exemplo:\n",
    "De quantas formas possíveis podemos acomodar estes 12 cavaleiros nos 12 lugares da távola redonda, levando em consideração apenas a posição entre eles? n = 12 e p = 12, sendo PC12 = (12 – 1)! = 11! = 39.916.800\n",
    "\n",
    "<br>\n",
    "\n",
    "#### 4 - Arranjo simples\n",
    "* Fórmula: \n",
    "<img width=\"25%\" src=\"_imagens/Probabilidade - Arranjo simples.png\">\n",
    "* n = Quantidade de elementos\n",
    "* p = Quantidade de posições (opções/possibilidade)\n",
    "* Sendo n > p \n",
    "* Não pode repetir\n",
    "* Importa a ordem \n",
    "###### Exemplos:\n",
    "<img width=\"50%\" src=\"_imagens/Probabilidade - Arranjo simples - Exemplo 1.png\">\n",
    "<img width=\"50%\" src=\"_imagens/Probabilidade - Arranjo simples - Exemplo 2.png\">\n",
    "\n",
    "<br>\n",
    "\n",
    "#### 5 - Arranjo com repetição\n",
    "* Fórmula:\n",
    "<img width=\"25%\" src=\"_imagens/Probabilidade - Arranjo com repetição.png\">\n",
    "* n = Quantidade de elementos\n",
    "* p = Quantidade de posições (opções/possibilidade)\n",
    "* Sendo n > p ou n < p\n",
    "* Pode repetir\n",
    "* Importa a ordem \n",
    "<img width=\"50%\" src=\"_imagens/Probabilidade - Arranjo com repetição - Exemplo 1.png\">\n",
    "<img width=\"50%\" src=\"_imagens/Probabilidade - Arranjo com repetição - Exemplo 2.png\">\n",
    "\n",
    "<br>\n",
    "\n",
    "#### 6 - Combinação simples\n",
    "* Fórmula:\n",
    "<img width=\"25%\" src=\"_imagens/Probabilidade - Combinação simples.png\">\n",
    "* n = Quantidade de elementos\n",
    "* p = Quantidade de posições (opções/possibilidade)\n",
    "* Sendo n > p\n",
    "* Simples = Não pode repetir\n",
    "* Não importa a ordem (Somente escolha dos elementos)\n",
    "* Exemplos de casos que usam combinação simples: Jogo de carta, jogo da Mega Sena e comissão de formatura.\n",
    "\n",
    "###### Exemplo: Uma empresa com 20 funcionários irá selecionar 4 deles para compor um grupo que irá avaliar a eficiência da empresa quantos grupos distintos é possível formar?\n",
    "<img width=\"50%\" src=\"_imagens/Probabilidade - Combinação simples - Exemplo.png\">\n",
    "\n",
    "<br>\n",
    "\n",
    "#### 7 - Combinação com repetição\n",
    "* Fórmula: \n",
    "<img width=\"25%\" src=\"_imagens/Probabilidade - Combinação com repetição - 1.png\">\n",
    "<img width=\"25%\" src=\"_imagens/Probabilidade - Combinação com repetição - 2.png\">\n",
    "* n = Quantidade de elementos\n",
    "* p = Quantidade de posições (opções/possibilidade)\n",
    "* Sendo n > p ou n < p\n",
    "* Pode repetir\n",
    "* Não importa a ordem (Somente escolha dos elementos)\n",
    "\n",
    "###### Exemplo: Maria faz três tipos de doces e vende uma caixa com 8 doces dentre estes 3 tipos. Quantas combinações distintas são possíveis fazer, em relação a esta caixa de doces?\n",
    "<img width=\"50%\" src=\"_imagens/Probabilidade - Combinação com repetição - Exemplo.png\">"
   ]
  },
  {
   "cell_type": "markdown",
   "id": "d0cd8f1b",
   "metadata": {},
   "source": [
    "# Probabilidade condicional\n",
    "[&#x1F53C;](#Sumário:) Clique para voltar para o sumário"
   ]
  },
  {
   "cell_type": "markdown",
   "id": "4fc96860",
   "metadata": {},
   "source": [
    "#### Probabilidade de ocorrer o evento A, dado que ocorreu o evento B, com isso, o espaço amostral é reduzido, se tornando apenas o evento B (Espaço S’). Por tanto, a probabilidade do evento A acontecer será a “região roxa” (P(A|B)) sendo P(B) > 0\n",
    "<img width=\"25%\" src=\"_imagens/Probabilidade - Condicional de ocorrer o evento A.png\">\n",
    "* Fórmula: \n",
    "<img width=\"25%\" src=\"_imagens/Probabilidade - Condicional de ocorrer o evento A - Formula.png\">\n",
    "\n",
    "<br>\n",
    "\n",
    "#### Probabilidade de ocorrer o evento B, dado que ocorreu o evento A, com isso, o espaço amostral é reduzido, se tornando apenas o evento A (Espaço S’). Por tanto, a probabilidade do evento B acontecer será a “região roxa” (P(B|A)), sendo P(A) > 0.\n",
    "<img width=\"25%\" src=\"_imagens/Probabilidade - Condicional de ocorrer o evento B.png\">\n",
    "\n",
    "* Fórmula: \n",
    "<img width=\"25%\" src=\"_imagens/Probabilidade - Condicional de ocorrer o evento B - Formula.png\">\n",
    "\n",
    "<br>\n",
    "\n",
    "###### Exemplo:\n",
    "No lançamento de um dado honesto de 6 faces, temos os eventos: <br>\n",
    "a)\tA: Resultado par <br>\n",
    "b)\tB: Resultado maior que 3 <br>\n",
    "<img width=\"25%\" src=\"_imagens/Probabilidade - Condicional - Exemplo.png\">\n",
    "Calcule as seguintes probabilidades:\n",
    "<img width=\"40%\" src=\"_imagens/Probabilidade - Condicional - Exemplo - Resposta.png\">"
   ]
  },
  {
   "cell_type": "markdown",
   "id": "ef63c978",
   "metadata": {},
   "source": [
    "# Teorema do produto (eventos dependentes)\n",
    "[&#x1F53C;](#Sumário:) Clique para voltar para o sumário"
   ]
  },
  {
   "cell_type": "markdown",
   "id": "622dbded",
   "metadata": {},
   "source": [
    "Formado pelos pontos amostrais que pertencem simultaneamente aos eventos A e B. (São os elementos comuns). Ocorrência de um evento afeta o outro. Um tem que ocorrer para depois ocorrer o outro. <br>\n",
    "\n",
    "<br>\n",
    "\n",
    "Probabilidade de ocorrer o evento A, dado que ocorreu o evento B. \n",
    "* Fórmula:\n",
    "<img width=\"25%\" src=\"_imagens/Probabilidade - Teorema do produto 1.png\">\n",
    "\n",
    "Probabilidade de ocorrer o evento B, dado que ocorreu o evento A\n",
    "* Fórmula: \n",
    "<img width=\"25%\" src=\"_imagens/Probabilidade - Teorema do produto 2.png\">\n",
    "\n",
    "<br>\n",
    "\n",
    "<img width=\"25%\" src=\"_imagens/Probabilidade - Teorema do produto 3.png\">"
   ]
  },
  {
   "cell_type": "markdown",
   "id": "902c77dc",
   "metadata": {},
   "source": [
    "# Eventos independentes\n",
    "[&#x1F53C;](#Sumário:) Clique para voltar para o sumário"
   ]
  },
  {
   "cell_type": "markdown",
   "id": "68bdb84b",
   "metadata": {},
   "source": [
    "Dizemos que A e B são eventos independentes quando a probabilidade de ocorrer um deles não depende do fato do outro ter ou não ocorrido. A informação sobre o evento B não altera a probabilidade de ocorrência de A.\n",
    "* P (A|B) = P(A)\n",
    "* P (B|A) = P(B)\n",
    "* P (A∩B) = P(A|B) x P(B)→ P (A∩B) = P(A) x P(B)\n",
    "* P (A∩B) = P(B|A) x P(A) → P (A∩B) = P(B) x P(A)\n",
    "###### Exemplo: No lançamento de dois dados honestos, qual é a probabilidade do primeiro dado ser par (Evento A) e do segundo dado ser maior que 4 (Evento B)? \n",
    "* P(A) = {2,4,6} = 3/6\n",
    "* P(B) = {5,6} = 2/6\n",
    "* P(A∩B) = P(A) x P(B) = 3/6 x 2/6 = 6/36 = 1/6\n",
    "<img width=\"70%\" src=\"_imagens/Probabilidade - Eventos independentes.png\">"
   ]
  },
  {
   "cell_type": "markdown",
   "id": "f71fa612",
   "metadata": {},
   "source": [
    "# Teoria de grafos\n",
    "[&#x1F53C;](#Sumário:) Clique para voltar para o sumário"
   ]
  },
  {
   "cell_type": "markdown",
   "id": "12472698",
   "metadata": {},
   "source": [
    "# Diagrama de árvore \n",
    "[&#x1F53C;](#Sumário:) Clique para voltar para o sumário"
   ]
  },
  {
   "cell_type": "markdown",
   "id": "fa10b24e",
   "metadata": {},
   "source": [
    "# Teorema da probabilidade total\n",
    "[&#x1F53C;](#Sumário:) Clique para voltar para o sumário"
   ]
  },
  {
   "cell_type": "markdown",
   "id": "e38a59cc",
   "metadata": {},
   "source": [
    "# Teorema de Bayes\n",
    "[&#x1F53C;](#Sumário:) Clique para voltar para o sumário"
   ]
  },
  {
   "cell_type": "markdown",
   "id": "c0743822",
   "metadata": {},
   "source": [
    "# Variáveis aleatórias (v.a)\n",
    "[&#x1F53C;](#Sumário:) Clique para voltar para o sumário"
   ]
  },
  {
   "cell_type": "markdown",
   "id": "47efc339",
   "metadata": {},
   "source": [
    "# Função de probabilidade\n",
    "[&#x1F53C;](#Sumário:) Clique para voltar para o sumário"
   ]
  },
  {
   "cell_type": "markdown",
   "id": "9cfc07e6",
   "metadata": {},
   "source": [
    "# Esperança (valor esperado)\n",
    "[&#x1F53C;](#Sumário:) Clique para voltar para o sumário"
   ]
  },
  {
   "cell_type": "markdown",
   "id": "19acaf3b",
   "metadata": {},
   "source": [
    "# Variância \n",
    "[&#x1F53C;](#Sumário:) Clique para voltar para o sumário"
   ]
  },
  {
   "cell_type": "markdown",
   "id": "76071782",
   "metadata": {},
   "source": [
    "# Desvio padrão\n",
    "[&#x1F53C;](#Sumário:) Clique para voltar para o sumário"
   ]
  },
  {
   "cell_type": "markdown",
   "id": "a60da27d",
   "metadata": {},
   "source": [
    "# Distribuição de probabilidade\n",
    "[&#x1F53C;](#Sumário:) Clique para voltar para o sumário"
   ]
  },
  {
   "cell_type": "markdown",
   "id": "a10f29fd",
   "metadata": {},
   "source": [
    "# Propriedade das operações entre eventos\n",
    "[&#x1F53C;](#Sumário:) Clique para voltar para o sumário"
   ]
  },
  {
   "cell_type": "markdown",
   "id": "8f71e61b",
   "metadata": {},
   "source": [
    "# Passeio aleatório\n",
    "[&#x1F53C;](#Sumário:) Clique para voltar para o sumário"
   ]
  }
 ],
 "metadata": {
  "kernelspec": {
   "display_name": "Python 3 (ipykernel)",
   "language": "python",
   "name": "python3"
  },
  "language_info": {
   "codemirror_mode": {
    "name": "ipython",
    "version": 3
   },
   "file_extension": ".py",
   "mimetype": "text/x-python",
   "name": "python",
   "nbconvert_exporter": "python",
   "pygments_lexer": "ipython3",
   "version": "3.9.16"
  }
 },
 "nbformat": 4,
 "nbformat_minor": 5
}
