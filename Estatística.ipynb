{
 "cells": [
  {
   "cell_type": "markdown",
   "id": "7a7af04b",
   "metadata": {},
   "source": [
    "<center><img width=\"25%\" src=\"https://www.camaramirimdoce.sc.gov.br/media/noticia/resumo-da-sessao-10-06-2019-111.png?w=848&h=450&t=P&c=f0f0f0&q=80&v=2\"></center>\n",
    "\n",
    "---\n",
    "\n",
    "<br>\n",
    "\n",
    "# Estatística\n",
    "\n",
    "<br>"
   ]
  },
  {
   "cell_type": "markdown",
   "id": "17d67813",
   "metadata": {},
   "source": [
    "> https://www.freecodecamp.org/news/statistics-for-data-science/ <br>\n",
    "> https://www.freecodecamp.org/news/linear-algebra-full-course/"
   ]
  },
  {
   "cell_type": "markdown",
   "id": "a8a345b6",
   "metadata": {},
   "source": [
    "## Introdução: <br>\n",
    "#### Antes de fazer seu estudo:\n",
    "1. Pergunte a si mesmo quais são os resultados que espera obter em sua pesquisa e seja explícito com a magnitude do efeito que espera obter (o tamanho do efeito).  Pergunte a si mesmo por que você está conduzindo sua pesquisa, dados os resultados existentes sobre o tema do estudo. Se não houver nenhuma pesquisa anterior relevante, pergunte-se: quão grande preciso que o efeito seja para que meu estudo valha a pena? A rejeição da minha hipótese nula de nenhum efeito é interessante o suficiente? \n",
    "2. Identifique quais valores foram encontrados em estudos anteriores para o tamanho do efeito do seu objeto de estudo.  Ao revisar a literatura existente, não se distraia com as conclusões de outros autores que podem confundir os valores-p; em vez disso, avalie as evidências e tire suas próprias conclusões. Os resultados relevantes incluem o tamanho e a direção dos efeitos estimados, a precisão das estimativas e a precisão dos procedimentos de medição. Para reduzir o viés de disponibilidade, avalie as pesquisas publicadas e não publicadas. \n",
    "3. Reveja as meta-análises relevantes para o efeito que lhe interessa ou pondere se deve fazê-lo você mesmo. \n",
    "\n",
    "<br>\n",
    "\n",
    "#### Quando você projeta seu estudo:\n",
    "4. Analise o poder estatístico obtido por pesquisas anteriores sobre o seu objeto de estudo, para que você possa determinar o tamanho mínimo de amostra necessário para detectar o tamanho do efeito que você espera. Selecione cuidadosamente o poder estatístico desejado com base no tamanho da amostra que você pode obter e seu custo. \n",
    "5. Quantifique suas expectativas sobre o tamanho mínimo da amostra.  O tamanho da amostra deve ser baseado no tamanho do menor grupo a ser avaliado, no número de preditores do modelo a ser utilizado (regra tácita de 10 casos por variável), etc. \n",
    "6. Se o seu objetivo é repetir um estudo anterior, faça duas perguntas a si mesmo:\n",
    "    * Se você acha que pesquisas anteriores não encontraram resultados significativos devido a falsos negativos (erro tipo II), pergunte-se sobre o tamanho da amostra e o tipo de teste estatístico usado no estudo. Pergunte a si mesmo se você pode acessar mais dados ou usar outras técnicas estatísticas para melhorar esses resultados.\n",
    "    * Se você não suspeitar de um erro alto tipo II, considere se faz sentido repetir o estudo, você pode não ser capaz de detectar um efeito.\n",
    "\n",
    "<br>\n",
    "\n",
    "#### Quando você coleta seus dados\n",
    "7. Faça um estudo piloto em pequena escala para obter uma estimativa do tamanho do efeito e avaliar seu procedimento de pesquisa.\n",
    "8. Tente reduzir o erro de medição à medida que diminuem o poder estatístico.\n",
    "9. Certifique-se de que a amostra com a qual você trabalha seja proveniente da população que deseja investigar, ou seja, que a amostra seja representativa.\n",
    "10. Leve em consideração o tamanho da amostra que você precisa. \n",
    "\n",
    "<br>\n",
    "\n",
    "#### Quando você analisa seus dados\n",
    "11. Selecione o teste estatístico mais poderoso que você pode aplicar aos dados.  Testes paramétricos são mais poderosos que testes não paramétricos, testes direcionais (unilaterais) são mais poderosos que não direcionais (bilaterais); trabalhar com dados numéricos é mais poderoso do que trabalhar com dados nominais ou ordinais.\n",
    "12. Resista à tentação de realizar múltiplas análises nos mesmos dados.  Não tente realizar cada vez mais análises em busca de rejeitar a hipótese nula. Tenha cuidado ao escolher o valor de alfa porque se você for menos seletivo (e usar um alfa maior, por exemplo, 0,1 em vez de 0,05), aumentará o erro tipo II e diminuirá o poder estatístico do teste. Distinguir entre hipóteses pré e post hoc. Esteja atento a achados acidentais repetidos.\n",
    "13. Avalie a estabilidade de seus resultados analisando os dados com uma segunda amostra (replicação) ou dividindo os dados em subgrupos e analisando cada parte separadamente (validação cruzada).\n",
    "14. Avalia o risco relativo de erro tipo I e II.  Como ambos os tipos de erros estão relacionados, se seus resultados não forem significativos, considere se você pode suspeitar que seja devido a um erro do tipo II (por exemplo, se o efeito for encontrado em pesquisas anteriores). Se p>0,05 não assumir apenas que não há efeito, veja se você pode relaxar o valor alfa ou se pode coletar mais dados para aumentar o poder estatístico de seu estudo.\n",
    "\n",
    "<br>\n",
    "\n",
    "#### Quando você escreve os resultados do seu estudo\n",
    "15. Indica claramente o método utilizado para selecionar a amostra.\n",
    "16. Descreva os dados coletados.  Ele permite que o leitor tenha informações suficientes para entender os dados (por exemplo, estatísticas descritivas) e menciona se há algum valor atípico no conjunto de dados.\n",
    "17. Testar os pressupostos estatísticos subjacentes aos testes estatísticos a utilizar e reportar os resultados.\n",
    "18. Relata a dimensão e direção dos efeitos estimados em formato padrão (valores de correlação «r» ou «d» de Cohen), mesmo que os resultados não sejam significativos e seu efeito seja pequeno. Isso permitirá que seus resultados sejam “metanaliticamente amigáveis”. Se a variável que você mede é importante em termos práticos (por exemplo, número de vidas salvas pelo tratamento), você também relata seu efeito em termos não padronizados. Indique claramente o tipo de medição que você está usando para medir o tamanho do efeito.\n",
    "19. Especifica os intervalos de confiança para quantificar o grau de precisão associado ao tamanho do efeito mencionado.\n",
    "20. Escreva os valores de p exatos para todos os testes estatísticos que você realizou, incluindo aqueles que não foram significativos.\n",
    "21. Especifique o poder de seus testes estatísticos.  Ou seja, não aqueles calculados a partir dos tamanhos de efeito ou valores-p observados em seu estudo, mas o poder ou poder a priori das técnicas estatísticas que você usou.\n",
    "22. Se você realizar análises multivariadas (por exemplo, regressão múltipla), relate correlações de ordem zero para todas as variáveis. Em seguida, faça uma matriz de correlação.\n",
    "23. Identifica como «post hoc» as hipóteses acidentais ou inesperadas resultantes das suas constatações.\n",
    "\n",
    "<br>\n",
    "\n",
    "#### Quando você interpreta os resultados do seu estudo\n",
    "24. Avalie o significado prático de seus resultados.  Pergunte a si mesmo o que seus resultados significam e para quem, em que contexto o efeito observado é particularmente importante? como pode ser afetado? qual é a contribuição líquida para o conhecimento? Se o efeito estimado for pequeno, pergunte-se em que circunstâncias você pode considerá-los importantes. Os efeitos se acumulam com o tempo? Não confunda significância estatística com significância prática.\n",
    "25. Se ajudar, informe o tamanho do efeito em um idioma que seu leitor esteja familiarizado.\n",
    "26. Compare explicitamente seus resultados com estimativas obtidas em trabalhos anteriores e com seus intervalos.  Pergunte a si mesmo se o tamanho do efeito que você estimou é maior, menor ou semelhante e se isso pode significar que diferentes efeitos foram medidos.\n",
    "27. Se você realizar uma meta-análise, certifique-se de que o modelo estatístico que você usou para agrupar as estimativas individuais é adequado para seus dados. Se os tamanhos de efeito da população forem variáveis, não use métodos de efeitos fixos. Se você quiser fazer inferências que não se limitem aos resultados obtidos ou às categorias analisadas, use métodos de efeitos aleatórios."
   ]
  },
  {
   "cell_type": "markdown",
   "id": "92dd9fc6",
   "metadata": {},
   "source": [
    "# **<u>Sumário:</u>**\n",
    "1. [Tabela de Frequência e Histograma](#Tabela-de-Frequência-e-Histograma)\n",
    "1. [Medidas de Tendência Central](#Medidas-de-Tendência-Central)\n",
    "1. [Medidas de Dispersão ou Variabilidade](#Medidas-de-Dispersão-ou-Variabilidade)\n",
    "1. [Bibliotecas do Python](#Bibliotecas-do-Python)\n",
    "2. [Técnicas de detecção de outlier](#Técnicas-de-detecção-de-outlier)\n",
    "2. [Função de densidade de probabilidade e Função de massa de probabilidade](#Função-de-densidade-de-probabilidade-e-Função-de-massa-de-probabilidade)"
   ]
  },
  {
   "cell_type": "markdown",
   "id": "b86c4420",
   "metadata": {},
   "source": [
    "# Medidas de Tendência Central\n",
    "[&#x1F53C;](#Sumário:) Clique para voltar para o sumário"
   ]
  },
  {
   "cell_type": "markdown",
   "id": "463c3e14",
   "metadata": {},
   "source": [
    "* Média é influenciada por outliers (Valores fora do padrão)\n",
    "> base.mean()\n",
    "* Média Aritimética Simples\n",
    "* Média Aritimética Ponderada\n",
    "* Média Harmônica\n",
    "* Média Harmônica Ponderada\n",
    "* Média Amostral\n",
    "* Média Populacional\n",
    "* Mediana é influencia pela quantidade de valores adicionados na amostra.\n",
    "> base.median()\n",
    "* Moda é influenciada pela quantidade de valores iguais\n",
    "> base.mode()"
   ]
  },
  {
   "cell_type": "markdown",
   "id": "9d19b0fc",
   "metadata": {},
   "source": [
    "# Medidas de Dispersão ou Variabilidade\n",
    "[&#x1F53C;](#Sumário:) Clique para voltar para o sumário"
   ]
  },
  {
   "cell_type": "markdown",
   "id": "7b5af6a9",
   "metadata": {},
   "source": [
    "* Amplitude\n",
    "* Desvio em relação ao valor médio (Di)\n",
    "* Variância amostral\n",
    "* Variância populacional\n",
    "* Desvio padrão amostral\n",
    "* Desvio padrão populacional\n",
    "* Desvio médio absoluto\n",
    "* Covariância\n",
    "* Coeficiente de correlação"
   ]
  },
  {
   "cell_type": "markdown",
   "id": "4c0383e2",
   "metadata": {},
   "source": [
    "# Bibliotecas do Python\n",
    "[&#x1F53C;](#Sumário:) Clique para voltar para o sumário"
   ]
  },
  {
   "cell_type": "markdown",
   "id": "9e8f7cdd",
   "metadata": {},
   "source": [
    "* from datetime import datetime\n",
    "* from collections import Counter\n",
    "* import pandas as pd\n",
    "\n",
    "<br>\n",
    "\n",
    "### Bibliotecas Matemáticas e Estatísticas: <br>\n",
    "* import numpy as np\n",
    "* from scipy.stats import spearmanr\n",
    "* import statistics as sts\n",
    "* from scipy import stats as s\n",
    "\n",
    "<br>\n",
    "\n",
    "### Pacotes de Machine Learning e Estatísticas: <br>\n",
    "* from sklearn.datasets import load_diabetes\n",
    "* from sklearn.linear_model import LinearRegression, Ridge\n",
    "* from sklearn.preprocessing import PolynomialFeatures\n",
    "* from sklearn.metrics import mean_squared_error\n",
    "* from sklearn.pipeline import make_pipeline\n",
    "\n",
    "<br>\n",
    "\n",
    "### Bibliotecas de Visualização: <br>\n",
    "* from matplotlib import pyplot as plt\n",
    "* import seaborn as sns\n",
    "* import ipywidgets as widgets >>> São widgets HTML interativos (Com objetivo de fazer plots interativos)\n",
    "> https://ipywidgets.readthedocs.io/en/latest/examples/Widget%20List.html"
   ]
  },
  {
   "cell_type": "code",
   "execution_count": 7,
   "id": "fda7166f",
   "metadata": {},
   "outputs": [],
   "source": [
    "import pandas as pd \n",
    "import numpy as np\n",
    "import ipywidgets as widgets # !pip install ipywidgets\n",
    "import matplotlib.pyplot as plt\n",
    "import statistics as sts\n",
    "from scipy import stats"
   ]
  },
  {
   "cell_type": "code",
   "execution_count": 8,
   "id": "69c3b17b",
   "metadata": {},
   "outputs": [
    {
     "name": "stdout",
     "output_type": "stream",
     "text": [
      "col_0   contagem\n",
      "idades          \n",
      "16             4\n",
      "17             8\n",
      "18             7\n",
      "19             1\n",
      "21             1\n"
     ]
    }
   ],
   "source": [
    "# Tabela de frequência e histograma\n",
    "base_alunos = {\n",
    "    \"id_aluno\": [1,2,3,4,5,6,7,8,9,10,11,12,13,14,15,16,17,18,19,20,21],\n",
    "    \"idades\": [16,16,16,16,17,17,17,17,17,17,17,17,18,18,18,18,18,18,18,19,21]\n",
    "}\n",
    "\n",
    "base_alunos = pd.DataFrame(base_alunos)\n",
    "\n",
    "print(pd.crosstab(index=base_alunos.idades,columns=\"contagem\"))"
   ]
  },
  {
   "cell_type": "code",
   "execution_count": 9,
   "id": "78e493f0",
   "metadata": {},
   "outputs": [
    {
     "data": {
      "image/png": "[encoded data removed]",
      "text/plain": [
       "<Figure size 640x480 with 1 Axes>"
      ]
     },
     "metadata": {},
     "output_type": "display_data"
    }
   ],
   "source": [
    "base_alunos.idades.hist();"
   ]
  },
  {
   "cell_type": "code",
   "execution_count": 10,
   "id": "ef39664a",
   "metadata": {},
   "outputs": [
    {
     "name": "stdout",
     "output_type": "stream",
     "text": [
      "A média do endividamento das empresa foi:43.50%\n",
      "A média do endividamento das empresa foi:43.50%\n",
      "A média do endividamento das empresa foi:43.50%\n"
     ]
    }
   ],
   "source": [
    "# Média Aritimética Simples\n",
    "endividamento = [25,51,76,41,55,13]\n",
    "\n",
    "# Modo 1\n",
    "media1 = sum(endividamento)/len(endividamento)\n",
    "print(f'A média do endividamento das empresa foi:{media1:.2f}%')\n",
    "\n",
    "# Modo 2\n",
    "def calcular_media(vetor):\n",
    "    return sum(vetor)/len(vetor)\n",
    "\n",
    "print('A média do endividamento das empresa foi:{:.2f}%'.format(calcular_media(endividamento)))\n",
    "\n",
    "# Modo 3\n",
    "media2 = np.mean(endividamento)\n",
    "print('A média do endividamento das empresa foi:{:.2f}%'.format(media2))"
   ]
  },
  {
   "cell_type": "code",
   "execution_count": 11,
   "id": "97454c9e",
   "metadata": {},
   "outputs": [
    {
     "name": "stdout",
     "output_type": "stream",
     "text": [
      "A média foi:721.30\n",
      "A média foi:721.30\n"
     ]
    }
   ],
   "source": [
    "# Média Aritimética Ponderada\n",
    "notas_enem = [718.91,521.33,627.9,610.12,930]\n",
    "pesos = [5,2,2,4,5]\n",
    "\n",
    "# Modo 1\n",
    "media_ponderada1 = np.average(notas_enem, weights=pesos)\n",
    "print(f'A média foi:{media_ponderada1:.2f}')\n",
    "\n",
    "# Modo 2\n",
    "notasXpesos = [notas_enem[i] * pesos[i] for i in range(0, len(notas_enem))]\n",
    "media_ponderada2 = sum(notasXpesos) / sum(pesos)\n",
    "print(f'A média foi:{media_ponderada2:.2f}')"
   ]
  },
  {
   "cell_type": "code",
   "execution_count": 12,
   "id": "12d49d98",
   "metadata": {},
   "outputs": [
    {
     "name": "stdout",
     "output_type": "stream",
     "text": [
      "Média harmônica = 25.12\n",
      "Média harmônica = 2.00\n",
      "Média harmônica = 25.12\n",
      "Média harmônica = 2.00\n",
      "Média harmônica = 25.12\n",
      "Média harmônica = 2.00\n"
     ]
    }
   ],
   "source": [
    "# Média Harmônica\n",
    "x = [10, 60, 360]\n",
    "y = [2, 2, 2, 2]\n",
    "\n",
    "# Modo 1\n",
    "somaX = (1 / x[0]) + (1 / x[1]) + (1 / x[2])\n",
    "xh1 = len(x)/somaX\n",
    "print(f'Média harmônica = {xh1:.2f}')\n",
    "\n",
    "somaY = (1 / y[0]) + (1 / y[1]) + (1 / y[2] + (1 / y[3]))\n",
    "yh1 = len(y)/somaY\n",
    "print(f'Média harmônica = {yh1:.2f}')\n",
    "\n",
    "# Modo 2\n",
    "somaX = [(1 / x[k]) for k in range(0, len(x))]\n",
    "somaX2 = sum(somaX)\n",
    "xh2 = len(x)/somaX2\n",
    "print(f'Média harmônica = {xh2:.2f}')\n",
    "\n",
    "somaY = [(1 / y[k]) for k in range(0, len(y))]\n",
    "somaY2 = sum(somaY)\n",
    "yh2 = len(y)/somaY2\n",
    "print(f'Média harmônica = {yh2:.2f}')\n",
    "\n",
    "# Modo 3\n",
    "xh3 = sts.harmonic_mean(x)\n",
    "print(f'Média harmônica = {xh3:.2f}')\n",
    "\n",
    "yh3 = sts.harmonic_mean(y)\n",
    "print(f'Média harmônica = {yh3:.2f}')"
   ]
  },
  {
   "cell_type": "code",
   "execution_count": 13,
   "id": "a3bdc2ea",
   "metadata": {},
   "outputs": [
    {
     "name": "stdout",
     "output_type": "stream",
     "text": [
      "Média harmônica ponderada dos preços: 36.67\n"
     ]
    }
   ],
   "source": [
    "# Média Harmônica Ponderada\n",
    "\n",
    "# Uma pessoa comprou 4 camisas a 30,00 por camisa e 2 camisas por 50,00 cada.\n",
    "# 120,00 em camisas de 30,00\n",
    "# 100,00 em camisas de 50,00\n",
    "\n",
    "# Modo 1\n",
    "gastos = [120, 100] \n",
    "precos = [30, 50] \n",
    "quantidades = [4, 2]\n",
    "\n",
    "preco_quatidade = ((gastos[0] * (1 / precos[0])) + (gastos[1] * (1 / precos[1])))\n",
    "precohP = 1  / (preco_quatidade / sum(gastos))\n",
    "print(f'Média harmônica ponderada dos preços: {precohP:.2f}')\n",
    "\n",
    "#sts.harmonic_me"
   ]
  },
  {
   "cell_type": "code",
   "execution_count": 15,
   "id": "0ba5d60d",
   "metadata": {},
   "outputs": [
    {
     "name": "stdout",
     "output_type": "stream",
     "text": [
      "A média e a mediana do conjunto A é, respectivamente, 26.2 e 11.0\n",
      "A média e a mediana do conjunto B é, respectivamente, 22.25 e 20.5\n",
      "2\n",
      "4\n",
      "[3, 9]\n",
      "\n"
     ]
    }
   ],
   "source": [
    "conjunto_a = [10,13,11,10,87]\n",
    "conjunto_b = [23,31,17,18]\n",
    "media_a = np.mean(conjunto_a)\n",
    "mediana_a = np.median(conjunto_a)\n",
    "media_b = np.mean(conjunto_b)\n",
    "mediana_b = np.median(conjunto_b)\n",
    "print(f'A média e a mediana do conjunto A é, respectivamente, {media_a} e {mediana_a}')\n",
    "print('A média e a mediana do conjunto B é, respectivamente, {} e {}'.format(media_b,mediana_b))\n",
    "\n",
    "a = [11,2,2,9,7]\n",
    "b = [4,4,19]\n",
    "c = [3,3,1,9,9]\n",
    "moda_a = sts.mode(a)\n",
    "moda_b = sts.mode(b)\n",
    "moda_c = sts.multimode(c)\n",
    "print(f'{moda_a}\\n{moda_b}\\n{moda_c}\\n')"
   ]
  },
  {
   "cell_type": "code",
   "execution_count": 16,
   "id": "ba0dc9e1",
   "metadata": {},
   "outputs": [
    {
     "name": "stdout",
     "output_type": "stream",
     "text": [
      "11.6\n"
     ]
    },
    {
     "data": {
      "text/html": [
       "<div>\n",
       "<style scoped>\n",
       "    .dataframe tbody tr th:only-of-type {\n",
       "        vertical-align: middle;\n",
       "    }\n",
       "\n",
       "    .dataframe tbody tr th {\n",
       "        vertical-align: top;\n",
       "    }\n",
       "\n",
       "    .dataframe thead th {\n",
       "        text-align: right;\n",
       "    }\n",
       "</style>\n",
       "<table border=\"1\" class=\"dataframe\">\n",
       "  <thead>\n",
       "    <tr style=\"text-align: right;\">\n",
       "      <th></th>\n",
       "      <th>A</th>\n",
       "      <th>B</th>\n",
       "      <th>C</th>\n",
       "    </tr>\n",
       "  </thead>\n",
       "  <tbody>\n",
       "    <tr>\n",
       "      <th>0</th>\n",
       "      <td>1</td>\n",
       "      <td>40</td>\n",
       "      <td>15</td>\n",
       "    </tr>\n",
       "    <tr>\n",
       "      <th>1</th>\n",
       "      <td>22</td>\n",
       "      <td>45</td>\n",
       "      <td>22</td>\n",
       "    </tr>\n",
       "    <tr>\n",
       "      <th>2</th>\n",
       "      <td>1</td>\n",
       "      <td>47</td>\n",
       "      <td>33</td>\n",
       "    </tr>\n",
       "    <tr>\n",
       "      <th>3</th>\n",
       "      <td>90</td>\n",
       "      <td>49</td>\n",
       "      <td>4</td>\n",
       "    </tr>\n",
       "  </tbody>\n",
       "</table>\n",
       "</div>"
      ],
      "text/plain": [
       "    A   B   C\n",
       "0   1  40  15\n",
       "1  22  45  22\n",
       "2   1  47  33\n",
       "3  90  49   4"
      ]
     },
     "metadata": {},
     "output_type": "display_data"
    },
    {
     "name": "stdout",
     "output_type": "stream",
     "text": [
      "A    90\n",
      "B    49\n",
      "C    33\n",
      "dtype: int64\n",
      "0    40\n",
      "1    45\n",
      "2    47\n",
      "3    90\n",
      "dtype: int64\n"
     ]
    }
   ],
   "source": [
    "B = [5,8,10,12,15]\n",
    "variancia_B = np.var(B)\n",
    "print(variancia_B)\n",
    "\n",
    "dados = {'A': [1,22,1,90], 'B': [40,45,47,49], 'C': [15,22,33,4]}\n",
    "df = pd.DataFrame(dados)\n",
    "display(df)\n",
    "print(df.max())\n",
    "print(df.max(axis=1))"
   ]
  },
  {
   "cell_type": "code",
   "execution_count": 17,
   "id": "42269a7f",
   "metadata": {},
   "outputs": [
    {
     "name": "stdout",
     "output_type": "stream",
     "text": [
      "A     1\n",
      "B    40\n",
      "C     4\n",
      "dtype: int64\n",
      "0     1\n",
      "1    22\n",
      "2     1\n",
      "3     4\n",
      "dtype: int64\n"
     ]
    }
   ],
   "source": [
    "print(df.min())\n",
    "print(df.min(axis=1))"
   ]
  },
  {
   "cell_type": "code",
   "execution_count": 18,
   "id": "b431a3b4",
   "metadata": {},
   "outputs": [
    {
     "name": "stdout",
     "output_type": "stream",
     "text": [
      "A    114\n",
      "B    181\n",
      "C     74\n",
      "dtype: int64\n"
     ]
    }
   ],
   "source": [
    "print(df.sum())"
   ]
  },
  {
   "cell_type": "code",
   "execution_count": 19,
   "id": "9e34bc8c",
   "metadata": {},
   "outputs": [
    {
     "name": "stdout",
     "output_type": "stream",
     "text": [
      "A    28.50\n",
      "B    45.25\n",
      "C    18.50\n",
      "dtype: float64\n"
     ]
    }
   ],
   "source": [
    "print(df.mean())"
   ]
  },
  {
   "cell_type": "code",
   "execution_count": 20,
   "id": "dff64331",
   "metadata": {},
   "outputs": [
    {
     "name": "stdout",
     "output_type": "stream",
     "text": [
      "A    1779.000000\n",
      "B      14.916667\n",
      "C     148.333333\n",
      "dtype: float64\n"
     ]
    }
   ],
   "source": [
    "print(df.var())"
   ]
  },
  {
   "cell_type": "code",
   "execution_count": 21,
   "id": "f05c7864",
   "metadata": {},
   "outputs": [
    {
     "name": "stdout",
     "output_type": "stream",
     "text": [
      "A    42.178193\n",
      "B     3.862210\n",
      "C    12.179217\n",
      "dtype: float64\n"
     ]
    }
   ],
   "source": [
    "print(df.std())"
   ]
  },
  {
   "cell_type": "code",
   "execution_count": 22,
   "id": "708f34e5",
   "metadata": {},
   "outputs": [
    {
     "name": "stdout",
     "output_type": "stream",
     "text": [
      "               A         B          C\n",
      "count   4.000000   4.00000   4.000000\n",
      "mean   28.500000  45.25000  18.500000\n",
      "std    42.178193   3.86221  12.179217\n",
      "min     1.000000  40.00000   4.000000\n",
      "25%     1.000000  43.75000  12.250000\n",
      "50%    11.500000  46.00000  18.500000\n",
      "75%    39.000000  47.50000  24.750000\n",
      "max    90.000000  49.00000  33.000000\n"
     ]
    }
   ],
   "source": [
    "print(df.describe())"
   ]
  },
  {
   "cell_type": "code",
   "execution_count": 23,
   "id": "b602e7a5",
   "metadata": {},
   "outputs": [
    {
     "name": "stdout",
     "output_type": "stream",
     "text": [
      "   count   mean        std   min    25%   50%    75%   max\n",
      "A    4.0  28.50  42.178193   1.0   1.00  11.5  39.00  90.0\n",
      "B    4.0  45.25   3.862210  40.0  43.75  46.0  47.50  49.0\n",
      "C    4.0  18.50  12.179217   4.0  12.25  18.5  24.75  33.0\n"
     ]
    }
   ],
   "source": [
    "print(df.describe().T)"
   ]
  },
  {
   "cell_type": "code",
   "execution_count": 24,
   "id": "53967129",
   "metadata": {},
   "outputs": [
    {
     "name": "stdout",
     "output_type": "stream",
     "text": [
      "count     4.000000\n",
      "mean     28.500000\n",
      "std      42.178193\n",
      "min       1.000000\n",
      "25%       1.000000\n",
      "50%      11.500000\n",
      "75%      39.000000\n",
      "max      90.000000\n",
      "Name: A, dtype: float64\n"
     ]
    }
   ],
   "source": [
    "print(df['A'].describe())"
   ]
  },
  {
   "cell_type": "code",
   "execution_count": 25,
   "id": "95c4ff4b",
   "metadata": {},
   "outputs": [
    {
     "name": "stdout",
     "output_type": "stream",
     "text": [
      "A    30.75\n",
      "B     2.75\n",
      "C     9.00\n",
      "dtype: float64\n"
     ]
    }
   ],
   "source": [
    "# Desvio médio absoluto\n",
    "print(df.mad())"
   ]
  },
  {
   "cell_type": "markdown",
   "id": "d353fa6e",
   "metadata": {},
   "source": [
    "# Técnicas de detecção de outlier\n",
    "[&#x1F53C;](#Sumário:) Clique para voltar para o sumário"
   ]
  },
  {
   "cell_type": "markdown",
   "id": "7c162f93",
   "metadata": {},
   "source": [
    "### O que é um outlier? <br>\n",
    "#### Definição de Hawkins: Um outlier é uma observação que se desvia tanto das outras observações a ponto de levantar suspeitas de que foi gerado por um mecanismo diferente.\n",
    "#### Intuição baseada em estatísticas: \n",
    "* Objetos de dados normais seguem um \"mecanismo gerador\", por exemplo, algum processo estatístico dado.\n",
    "* Objetos anormais desviam-se desse mecanismo gerador.\n",
    "#### Aplicações de exemplo de detecção de outliers:\n",
    "* Detecção de fraudes: O comportamento de compra do titular de um cartão de crédito geralmente muda quando o cartão é roubado (Padrões de compra anormais).\n",
    "* Medicina: Sintomas incomuns ou resultados de testes podem indicar possíveis problemas de saúde de um paciente.\n",
    "* Saúde pública: A ocorrência de uma determinada doença, por exemplo, tétano, espalhada por vários hospitais de uma cidade indica problemas com o programa de vacinação correspondente naquela cidade.\n",
    "* Estatísticas esportivas: Em muitos esportes, vários parâmetros são registrados para os jogadores, a fim de avaliar o desempenho dos jogadores. Jogadores proeminentes (tanto no sentido positivo quanto negativo) podem ser identificados como tendo valores de parâmetros anormais.\n",
    "* Detecção de erros de medição: Valores anormais podem fornecer uma indicação de um erro de medição.\n",
    "#### Os outliers são apenas um produto secundário de alguns algoritmos de clustering (agrupamento)?\n",
    "* Muitos algoritmos de clustering não atribuem todos os pontos aos clusters, mas contabilizam objetos de ruído\n",
    "* Procure por outliers aplicando um desses algoritmos e recupere o conjunto de ruído\n",
    "* Problema:\n",
    "    * "
   ]
  },
  {
   "cell_type": "markdown",
   "id": "b06214c7",
   "metadata": {},
   "source": [
    "# Função de densidade de probabilidade e Função de massa de probabilidade\n",
    "[&#x1F53C;](#Sumário:) Clique para voltar para o sumário"
   ]
  },
  {
   "cell_type": "markdown",
   "id": "f0078930",
   "metadata": {},
   "source": [
    "### Variável Aleatória: Uma variável que representa o resultado de um ensaio/experiência ou um evento. Pense nisso como uma função que mapeia os resultados de um processo aleatório para um conjunto de números reais. Normalmente representado por: X\n",
    "<img  width=\"30%\" src=\"https://pbs.twimg.com/media/FuUZHFPagAAi8Ph?format=png&name=small\">"
   ]
  },
  {
   "cell_type": "markdown",
   "id": "e15ae772",
   "metadata": {},
   "source": [
    "### Variáveis aleatórias discretas e contínuas: Uma variável aleatória discreta assume um número finito ou contável de valores distintos. Uma variável aleatória contínua assume um número infinito de valores dentro de uma faixa ou intervalo especificado.\n",
    "<img  width=\"40%\" src=\"https://pbs.twimg.com/media/FuUZHgEacAEUwnT?format=jpg&name=small\">"
   ]
  },
  {
   "cell_type": "markdown",
   "id": "6ab79a8e",
   "metadata": {},
   "source": [
    "### Função de massa de probabilidade (PMF) é uma função que dá a probabilidade de cada resultado possível de uma variável aleatória discreta. Exemplo: Lançamento de uma moeda honesta O PMF para esta moeda seria: - P(X = H) = 0,5 - P(X = T) = 0,5 "
   ]
  },
  {
   "cell_type": "markdown",
   "id": "e4d540b4",
   "metadata": {},
   "source": [
    "### Diga-me, qual a probabilidade de uma pessoa ter exatamente 167,2387 cm de altura? Dado que existem cerca de 8 bilhões de pessoas no mundo. Seria ZERO. <br>\n",
    "### Visto que estamos falando de uma única pessoa e o tamanho da amostra é muito grande (1/∞ → 0) <br>\n",
    "### Mas algumas alturas em torno de 170 cm são mais prováveis de ocorrer do que 130 cm. \n",
    "### A Função de densidade de probabilidade (PDF) abaixo não dá a probabilidade de um valor específico de uma variável aleatória contínua. Em vez disso, representa a densidade de probabilidade naquele valor. <br>\n",
    "<img  width=\"40%\" src=\"https://pbs.twimg.com/media/FuUZISAaIAAEWCq?format=jpg&name=small\">"
   ]
  },
  {
   "cell_type": "code",
   "execution_count": 26,
   "id": "68ed5769",
   "metadata": {},
   "outputs": [
    {
     "data": {
      "image/png": "[encoded data removed]",
      "text/plain": [
       "<Figure size 500x400 with 1 Axes>"
      ]
     },
     "metadata": {},
     "output_type": "display_data"
    }
   ],
   "source": [
    "import numpy as np  \n",
    "import scipy.stats as stats \n",
    "import matplotlib.pyplot as plt \n",
    "\n",
    "# Set the mean (mu) and std dev (sigma) for the normal distribution\n",
    "mu, sigma = 170, 10  \n",
    "x = np.linspace(140, 200, 100) \n",
    "\n",
    "# Calculate the (PDF) for the normal distribution\n",
    "pdf = stats.norm.pdf(x, mu, sigma)  \n",
    "\n",
    "plt.figure(figsize=(5, 4))  \n",
    "plt.plot(x, pdf, color='r')  \n",
    "plt.xlabel('Height (cm)')  \n",
    "plt.ylabel('Density')  \n",
    "plt.show() "
   ]
  },
  {
   "cell_type": "markdown",
   "id": "251aab6b",
   "metadata": {},
   "source": [
    "### Querendo saber como essa representação é útil? Digamos que você queira encontrar a probabilidade de a altura de uma pessoa estar entre 160 cm e 180 cm.\n",
    "<img  width=\"40%\" src=\"https://pbs.twimg.com/media/FuUZIxEaAAAr8Cm?format=jpg&name=small\">"
   ]
  },
  {
   "cell_type": "code",
   "execution_count": 27,
   "id": "bd91c662",
   "metadata": {},
   "outputs": [
    {
     "name": "stdout",
     "output_type": "stream",
     "text": [
      "P(160 <= Height <= 180) = 0.6827\n"
     ]
    }
   ],
   "source": [
    "import numpy as np\n",
    "import scipy.stats as stats\n",
    "\n",
    "mu, sigma = 170, 10\n",
    "\n",
    "# Calculate the CDF values for the range limits\n",
    "cdf_lower = stats.norm.cdf(160, mu, sigma)\n",
    "cdf_upper = stats.norm.cdf(180, mu, sigma)\n",
    "\n",
    "# Subtract the CDF values to find the probability within the range\n",
    "probability = cdf_upper - cdf_lower\n",
    "\n",
    "print(f\"P(160 <= Height <= 180) = {probability:.4f}\")"
   ]
  }
 ],
 "metadata": {
  "kernelspec": {
   "display_name": "Python 3 (ipykernel)",
   "language": "python",
   "name": "python3"
  },
  "language_info": {
   "codemirror_mode": {
    "name": "ipython",
    "version": 3
   },
   "file_extension": ".py",
   "mimetype": "text/x-python",
   "name": "python",
   "nbconvert_exporter": "python",
   "pygments_lexer": "ipython3",
   "version": "3.9.16"
  }
 },
 "nbformat": 4,
 "nbformat_minor": 5
}
