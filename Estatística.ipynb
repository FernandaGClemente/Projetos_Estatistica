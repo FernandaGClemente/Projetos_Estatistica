{
 "cells": [
  {
   "cell_type": "markdown",
   "id": "9c10fafa",
   "metadata": {},
   "source": [
    "> https://www.freecodecamp.org/news/statistics-for-data-science/ <br>\n",
    "> https://www.freecodecamp.org/news/linear-algebra-full-course/"
   ]
  },
  {
   "cell_type": "markdown",
   "id": "d353fa6e",
   "metadata": {},
   "source": [
    "## Técnicas de detecção de outlier"
   ]
  },
  {
   "cell_type": "markdown",
   "id": "7c162f93",
   "metadata": {},
   "source": [
    "### O que é um outlier? <br>\n",
    "#### Definição de Hawkins: Um outlier é uma observação que se desvia tanto das outras observações a ponto de levantar suspeitas de que foi gerado por um mecanismo diferente.\n",
    "#### Intuição baseada em estatísticas: \n",
    "* Objetos de dados normais seguem um \"mecanismo gerador\", por exemplo, algum processo estatístico dado.\n",
    "* Objetos anormais desviam-se desse mecanismo gerador.\n",
    "#### Aplicações de exemplo de detecção de outliers:\n",
    "* Detecção de fraudes: O comportamento de compra do titular de um cartão de crédito geralmente muda quando o cartão é roubado (Padrões de compra anormais).\n",
    "* Medicina: Sintomas incomuns ou resultados de testes podem indicar possíveis problemas de saúde de um paciente.\n",
    "* Saúde pública: A ocorrência de uma determinada doença, por exemplo, tétano, espalhada por vários hospitais de uma cidade indica problemas com o programa de vacinação correspondente naquela cidade.\n",
    "* Estatísticas esportivas: Em muitos esportes, vários parâmetros são registrados para os jogadores, a fim de avaliar o desempenho dos jogadores. Jogadores proeminentes (tanto no sentido positivo quanto negativo) podem ser identificados como tendo valores de parâmetros anormais.\n",
    "* Detecção de erros de medição: Valores anormais podem fornecer uma indicação de um erro de medição.\n",
    "#### Os outliers são apenas um produto secundário de alguns algoritmos de clustering (agrupamento)?\n",
    "* Muitos algoritmos de clustering não atribuem todos os pontos aos clusters, mas contabilizam objetos de ruído\n",
    "* Procure por outliers aplicando um desses algoritmos e recupere o conjunto de ruído\n",
    "* Problema:\n",
    "    * "
   ]
  },
  {
   "cell_type": "code",
   "execution_count": null,
   "id": "a5514e77",
   "metadata": {},
   "outputs": [],
   "source": []
  }
 ],
 "metadata": {
  "kernelspec": {
   "display_name": "Python 3 (ipykernel)",
   "language": "python",
   "name": "python3"
  },
  "language_info": {
   "codemirror_mode": {
    "name": "ipython",
    "version": 3
   },
   "file_extension": ".py",
   "mimetype": "text/x-python",
   "name": "python",
   "nbconvert_exporter": "python",
   "pygments_lexer": "ipython3",
   "version": "3.9.16"
  }
 },
 "nbformat": 4,
 "nbformat_minor": 5
}
